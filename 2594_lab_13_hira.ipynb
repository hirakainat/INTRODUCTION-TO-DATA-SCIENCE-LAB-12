{
  "nbformat": 4,
  "nbformat_minor": 0,
  "metadata": {
    "colab": {
      "private_outputs": true,
      "provenance": []
    },
    "kernelspec": {
      "name": "python3",
      "display_name": "Python 3"
    },
    "language_info": {
      "name": "python"
    }
  },
  "cells": [
    {
      "cell_type": "code",
      "execution_count": null,
      "metadata": {
        "id": "hfdezWaSnWQv"
      },
      "outputs": [],
      "source": [
        "!pip install scikit-learn-extra --quiet\n",
        "import numpy as np\n",
        "import pandas as pd\n",
        "import matplotlib.pyplot as plt\n",
        "from sklearn.cluster import KMeans\n",
        "from sklearn.metrics import silhouette_score\n",
        "from sklearn_extra.cluster import KMedoids\n",
        "from sklearn.metrics import davies_bouldin_score\n",
        "from sklearn.metrics import calinski_harabasz_score\n",
        "data=pd.read_csv(\"clustering_dataset.csv\")\n",
        "\n",
        "\n",
        "display(data)"
      ]
    },
    {
      "cell_type": "markdown",
      "source": [
        "**question1**"
      ],
      "metadata": {
        "id": "50n-mSIzoK1X"
      }
    },
    {
      "cell_type": "code",
      "source": [
        "from sklearn.cluster import KMeans\n",
        "import matplotlib.pyplot as plt\n",
        "from sklearn.metrics import silhouette_score\n",
        "\n",
        "kmeans_model = KMeans(n_clusters=3, random_state=42)\n",
        "data['Cluster_Label'] = kmeans_model.fit_predict(data)\n",
        "\n",
        "cluster_centers = kmeans_model.cluster_centers_\n",
        "\n",
        "plt.figure(figsize=(8, 6))\n",
        "\n",
        "for cluster_num in range(3):\n",
        "    cluster_points = data[data['Cluster_Label'] == cluster_num]\n",
        "    plt.scatter(cluster_points['Feature1'], cluster_points['Feature2'], label=f'Cluster {cluster_num}', alpha=0.6)\n",
        "\n",
        "plt.scatter(cluster_centers[:, 0], cluster_centers[:, 1], c='red', marker='X', s=200, label='Centroids')\n",
        "plt.title(\"K-Means Clustering (3 Clusters)\")\n",
        "plt.xlabel(\"Feature1\")\n",
        "plt.ylabel(\"Feature2\")\n",
        "plt.legend()\n",
        "plt.grid(True)\n",
        "plt.show()\n",
        "\n",
        "silhouette_avg_score = silhouette_score(data[['Feature1', 'Feature2']], data['Cluster_Label'])\n",
        "print(f\"Silhouette Score: {silhouette_avg_score}\")\n"
      ],
      "metadata": {
        "id": "ILhMTZpkn-Nf"
      },
      "execution_count": null,
      "outputs": []
    },
    {
      "cell_type": "markdown",
      "source": [
        "question no 2"
      ],
      "metadata": {
        "id": "Kvi1VgP_owSe"
      }
    },
    {
      "cell_type": "code",
      "source": [
        "\n",
        "kmedoids = KMedoids(n_clusters=4, random_state=42)\n",
        "data['Cluster_KMedoids'] = kmedoids.fit_predict(data[['Feature1', 'Feature2']])\n",
        "\n",
        "medoids = kmedoids.cluster_centers_\n",
        "\n",
        "\n",
        "plt.figure(figsize=(8, 6))\n",
        "\n",
        "\n",
        "for cluster in range(4):\n",
        "    cluster_data = data[data['Cluster_KMedoids'] == cluster]\n",
        "    plt.scatter(cluster_data['Feature1'], cluster_data['Feature2'], label=f'Cluster {cluster}', alpha=0.6)\n",
        "\n",
        "\n",
        "\n",
        "plt.scatter(medoids[:, 0], medoids[:, 1], c='red', marker='X', s=200, label='Medoids')\n",
        "plt.title(\"K-Medoids Clustering (4 Clusters)\")\n",
        "plt.xlabel(\"Feature1\")\n",
        "plt.ylabel(\"Feature2\")\n",
        "plt.legend()\n",
        "plt.grid()\n",
        "plt.show()\n",
        "\n",
        "\n",
        "db_index = davies_bouldin_score(data[['Feature1', 'Feature2']], data['Cluster_KMedoids'])\n",
        "print(f\"Davies-Bouldin Index: {db_index}\")"
      ],
      "metadata": {
        "id": "s0MwnSsvoOze"
      },
      "execution_count": null,
      "outputs": []
    },
    {
      "cell_type": "code",
      "source": [
        "import matplotlib.pyplot as plt\n",
        "from sklearn.cluster import KMeans\n",
        "from sklearn_extra.cluster import KMedoids\n",
        "from sklearn.metrics import calinski_harabasz_score\n",
        "\n",
        "kmeans_model = KMeans(n_clusters=3, random_state=42)\n",
        "data['KMeans_Cluster'] = kmeans_model.fit_predict(data[['Feature1', 'Feature2']])\n",
        "\n",
        "kmedoids_model = KMedoids(n_clusters=3, random_state=42)\n",
        "data['KMedoids_Cluster'] = kmedoids_model.fit_predict(data[['Feature1', 'Feature2']])\n",
        "\n",
        "fig, axes = plt.subplots(1, 2, figsize=(12, 6))\n",
        "\n",
        "axes[0].scatter(data['Feature1'], data['Feature2'], c=data['KMeans_Cluster'], cmap='viridis', alpha=0.6)\n",
        "axes[0].scatter(kmeans_model.cluster_centers_[:, 0], kmeans_model.cluster_centers_[:, 1], c='red', marker='X', s=200, label='Centroids')\n",
        "axes[0].set_title(\"K-Means Clustering (3 Groups)\")\n",
        "axes[0].set_xlabel(\"Feature 1\")\n",
        "axes[0].set_ylabel(\"Feature 2\")\n",
        "axes[0].legend()\n",
        "axes[0].grid(True)\n",
        "\n",
        "axes[1].scatter(data['Feature1'], data['Feature2'], c=data['KMedoids_Cluster'], cmap='viridis', alpha=0.6)\n",
        "axes[1].scatter(kmedoids_model.cluster_centers_[:, 0], kmedoids_model.cluster_centers_[:, 1], c='red', marker='X', s=200, label='Medoids')\n",
        "axes[1].set_title(\"K-Medoids Clustering (3 Groups)\")\n",
        "axes[1].set_xlabel(\"Feature 1\")\n",
        "axes[1].set_ylabel(\"Feature 2\")\n",
        "axes[1].legend()\n",
        "axes[1].grid(True)\n",
        "\n",
        "plt.tight_layout()\n",
        "plt.show()\n",
        "\n",
        "kmeans_ch_score = calinski_harabasz_score(data[['Feature1', 'Feature2']], data['KMeans_Cluster'])\n",
        "kmedoids_ch_score = calinski_harabasz_score(data[['Feature1', 'Feature2']], data['KMedoids_Cluster'])\n",
        "\n",
        "print(f\"Calinski-Harabasz Index for K-Means: {kmeans_ch_score}\")\n",
        "print(f\"Calinski-Harabasz Index for K-Medoids: {kmedoids_ch_score}\")\n"
      ],
      "metadata": {
        "id": "EdDbXU4Lpupt"
      },
      "execution_count": null,
      "outputs": []
    },
    {
      "cell_type": "code",
      "source": [],
      "metadata": {
        "id": "MrvITDLNqTBn"
      },
      "execution_count": null,
      "outputs": []
    }
  ]
}